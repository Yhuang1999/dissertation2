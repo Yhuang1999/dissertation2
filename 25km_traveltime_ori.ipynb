{
 "cells": [
  {
   "cell_type": "code",
   "execution_count": 1,
   "metadata": {
    "id": "rhaAtovknwtL"
   },
   "outputs": [
    {
     "ename": "ModuleNotFoundError",
     "evalue": "No module named 'numpy.core._multiarray_umath'",
     "output_type": "error",
     "traceback": [
      "\u001b[0;31m---------------------------------------------------------------------------\u001b[0m",
      "\u001b[0;31mModuleNotFoundError\u001b[0m                       Traceback (most recent call last)",
      "\u001b[0;31mModuleNotFoundError\u001b[0m: No module named 'numpy.core._multiarray_umath'"
     ]
    },
    {
     "ename": "ModuleNotFoundError",
     "evalue": "No module named 'numpy.core._multiarray_umath'",
     "output_type": "error",
     "traceback": [
      "\u001b[0;31m---------------------------------------------------------------------------\u001b[0m",
      "\u001b[0;31mModuleNotFoundError\u001b[0m                       Traceback (most recent call last)",
      "\u001b[0;31mModuleNotFoundError\u001b[0m: No module named 'numpy.core._multiarray_umath'"
     ]
    },
    {
     "ename": "ModuleNotFoundError",
     "evalue": "No module named 'numpy.core._multiarray_umath'",
     "output_type": "error",
     "traceback": [
      "\u001b[0;31m---------------------------------------------------------------------------\u001b[0m",
      "\u001b[0;31mModuleNotFoundError\u001b[0m                       Traceback (most recent call last)",
      "\u001b[0;31mModuleNotFoundError\u001b[0m: No module named 'numpy.core._multiarray_umath'"
     ]
    }
   ],
   "source": [
    "from access import Access, weights, Datasets\n",
    "from shapely.geometry import Point\n",
    "import logging\n",
    "import pandas as pd\n",
    "import geopandas as gpd\n",
    "import matplotlib.pyplot as plt\n",
    "import numpy as np"
   ]
  },
  {
   "cell_type": "markdown",
   "metadata": {
    "id": "Z1zcev4FnwtO"
   },
   "source": [
    "## Input Datasets\n",
    "Load the population data and facility data from csv files"
   ]
  },
  {
   "cell_type": "code",
   "execution_count": 2,
   "metadata": {
    "id": "lLIbdBEYnwtO"
   },
   "outputs": [],
   "source": [
    "pop = pd.read_csv('质心.csv')\n",
    "des = pd.read_csv('destination_4types.csv')\n",
    "merg = pd.read_csv('merged_cleaned.csv')"
   ]
  },
  {
   "cell_type": "markdown",
   "metadata": {
    "id": "W5jfXCPrnwtO"
   },
   "source": [
    "Overview of the data"
   ]
  },
  {
   "cell_type": "code",
   "execution_count": 3,
   "metadata": {
    "id": "tu1EGCKanwtP"
   },
   "outputs": [
    {
     "data": {
      "text/html": [
       "<div>\n",
       "<style scoped>\n",
       "    .dataframe tbody tr th:only-of-type {\n",
       "        vertical-align: middle;\n",
       "    }\n",
       "\n",
       "    .dataframe tbody tr th {\n",
       "        vertical-align: top;\n",
       "    }\n",
       "\n",
       "    .dataframe thead th {\n",
       "        text-align: right;\n",
       "    }\n",
       "</style>\n",
       "<table border=\"1\" class=\"dataframe\">\n",
       "  <thead>\n",
       "    <tr style=\"text-align: right;\">\n",
       "      <th></th>\n",
       "      <th>objectid</th>\n",
       "      <th>lad19cd</th>\n",
       "      <th>lad19nm</th>\n",
       "      <th>lad19nmw</th>\n",
       "      <th>bng_e</th>\n",
       "      <th>bng_n</th>\n",
       "      <th>long</th>\n",
       "      <th>lat</th>\n",
       "      <th>st_areasha</th>\n",
       "      <th>st_lengths</th>\n",
       "    </tr>\n",
       "  </thead>\n",
       "  <tbody>\n",
       "    <tr>\n",
       "      <th>0</th>\n",
       "      <td>1</td>\n",
       "      <td>E06000001</td>\n",
       "      <td>Hartlepool</td>\n",
       "      <td>NaN</td>\n",
       "      <td>447160</td>\n",
       "      <td>531474</td>\n",
       "      <td>-1.259401</td>\n",
       "      <td>54.669450</td>\n",
       "      <td>9.371262e+07</td>\n",
       "      <td>71011.933949</td>\n",
       "    </tr>\n",
       "    <tr>\n",
       "      <th>1</th>\n",
       "      <td>2</td>\n",
       "      <td>E06000002</td>\n",
       "      <td>Middlesbrough</td>\n",
       "      <td>NaN</td>\n",
       "      <td>451141</td>\n",
       "      <td>516887</td>\n",
       "      <td>-1.222262</td>\n",
       "      <td>54.542004</td>\n",
       "      <td>5.388156e+07</td>\n",
       "      <td>44481.691242</td>\n",
       "    </tr>\n",
       "    <tr>\n",
       "      <th>2</th>\n",
       "      <td>3</td>\n",
       "      <td>E06000003</td>\n",
       "      <td>Redcar and Cleveland</td>\n",
       "      <td>NaN</td>\n",
       "      <td>464361</td>\n",
       "      <td>519597</td>\n",
       "      <td>-1.020684</td>\n",
       "      <td>54.551652</td>\n",
       "      <td>2.450695e+08</td>\n",
       "      <td>96703.989701</td>\n",
       "    </tr>\n",
       "    <tr>\n",
       "      <th>3</th>\n",
       "      <td>4</td>\n",
       "      <td>E06000004</td>\n",
       "      <td>Stockton-on-Tees</td>\n",
       "      <td>NaN</td>\n",
       "      <td>444940</td>\n",
       "      <td>518183</td>\n",
       "      <td>-1.332280</td>\n",
       "      <td>54.561613</td>\n",
       "      <td>2.049330e+08</td>\n",
       "      <td>123408.985928</td>\n",
       "    </tr>\n",
       "    <tr>\n",
       "      <th>4</th>\n",
       "      <td>5</td>\n",
       "      <td>E06000005</td>\n",
       "      <td>Darlington</td>\n",
       "      <td>NaN</td>\n",
       "      <td>428029</td>\n",
       "      <td>515648</td>\n",
       "      <td>-1.552628</td>\n",
       "      <td>54.548705</td>\n",
       "      <td>1.974757e+08</td>\n",
       "      <td>107206.401677</td>\n",
       "    </tr>\n",
       "  </tbody>\n",
       "</table>\n",
       "</div>"
      ],
      "text/plain": [
       "   objectid    lad19cd               lad19nm lad19nmw   bng_e   bng_n  \\\n",
       "0         1  E06000001            Hartlepool      NaN  447160  531474   \n",
       "1         2  E06000002         Middlesbrough      NaN  451141  516887   \n",
       "2         3  E06000003  Redcar and Cleveland      NaN  464361  519597   \n",
       "3         4  E06000004      Stockton-on-Tees      NaN  444940  518183   \n",
       "4         5  E06000005            Darlington      NaN  428029  515648   \n",
       "\n",
       "       long        lat    st_areasha     st_lengths  \n",
       "0 -1.259401  54.669450  9.371262e+07   71011.933949  \n",
       "1 -1.222262  54.542004  5.388156e+07   44481.691242  \n",
       "2 -1.020684  54.551652  2.450695e+08   96703.989701  \n",
       "3 -1.332280  54.561613  2.049330e+08  123408.985928  \n",
       "4 -1.552628  54.548705  1.974757e+08  107206.401677  "
      ]
     },
     "execution_count": 3,
     "metadata": {},
     "output_type": "execute_result"
    }
   ],
   "source": [
    "pop.head()"
   ]
  },
  {
   "cell_type": "code",
   "execution_count": 4,
   "metadata": {
    "id": "UBdXJWBanwtQ"
   },
   "outputs": [
    {
     "data": {
      "text/html": [
       "<div>\n",
       "<style scoped>\n",
       "    .dataframe tbody tr th:only-of-type {\n",
       "        vertical-align: middle;\n",
       "    }\n",
       "\n",
       "    .dataframe tbody tr th {\n",
       "        vertical-align: top;\n",
       "    }\n",
       "\n",
       "    .dataframe thead th {\n",
       "        text-align: right;\n",
       "    }\n",
       "</style>\n",
       "<table border=\"1\" class=\"dataframe\">\n",
       "  <thead>\n",
       "    <tr style=\"text-align: right;\">\n",
       "      <th></th>\n",
       "      <th>objectid</th>\n",
       "      <th>Region</th>\n",
       "      <th>STP</th>\n",
       "      <th>Trust or Site Name</th>\n",
       "      <th>Address</th>\n",
       "      <th>Postcode</th>\n",
       "      <th>longitude</th>\n",
       "      <th>latitude</th>\n",
       "      <th>category</th>\n",
       "    </tr>\n",
       "  </thead>\n",
       "  <tbody>\n",
       "    <tr>\n",
       "      <th>0</th>\n",
       "      <td>1</td>\n",
       "      <td>South West</td>\n",
       "      <td>NHS Kernow CCG</td>\n",
       "      <td>Helston Medical Centre</td>\n",
       "      <td>Trelawny Road, Helston, Cornwall</td>\n",
       "      <td>TR13 8AU</td>\n",
       "      <td>-5.269119</td>\n",
       "      <td>50.099159</td>\n",
       "      <td>GP_led vaccination services</td>\n",
       "    </tr>\n",
       "    <tr>\n",
       "      <th>1</th>\n",
       "      <td>2</td>\n",
       "      <td>South West</td>\n",
       "      <td>NHS Kernow CCG</td>\n",
       "      <td>Isles of Scilly Health Centre (deliver to main...</td>\n",
       "      <td>The Health Centre, St Mary's, via Helston Medi...</td>\n",
       "      <td>TR21 0HE</td>\n",
       "      <td>-5.269998</td>\n",
       "      <td>50.099710</td>\n",
       "      <td>GP_led vaccination services</td>\n",
       "    </tr>\n",
       "    <tr>\n",
       "      <th>2</th>\n",
       "      <td>3</td>\n",
       "      <td>South West</td>\n",
       "      <td>NHS Kernow CCG</td>\n",
       "      <td>Falmouth Health Centre</td>\n",
       "      <td>Falmouth Health Centre, Trescobeas Rd, Falmouth</td>\n",
       "      <td>TR11 2LH</td>\n",
       "      <td>-5.086106</td>\n",
       "      <td>50.155956</td>\n",
       "      <td>GP_led vaccination services</td>\n",
       "    </tr>\n",
       "    <tr>\n",
       "      <th>3</th>\n",
       "      <td>4</td>\n",
       "      <td>South West</td>\n",
       "      <td>NHS Kernow CCG</td>\n",
       "      <td>Bodriggy Surgery</td>\n",
       "      <td>Bodriggy Health Centre</td>\n",
       "      <td>TR27 4PB</td>\n",
       "      <td>-5.412844</td>\n",
       "      <td>50.187164</td>\n",
       "      <td>GP_led vaccination services</td>\n",
       "    </tr>\n",
       "    <tr>\n",
       "      <th>4</th>\n",
       "      <td>5</td>\n",
       "      <td>South West</td>\n",
       "      <td>Cornwall and the Isles of Scilly</td>\n",
       "      <td>Truro Showground</td>\n",
       "      <td>The Showground, Tubbin Hill, Stithians, Truro</td>\n",
       "      <td>TR3 7DP</td>\n",
       "      <td>-5.164745</td>\n",
       "      <td>50.194484</td>\n",
       "      <td>vaccination centres</td>\n",
       "    </tr>\n",
       "  </tbody>\n",
       "</table>\n",
       "</div>"
      ],
      "text/plain": [
       "   objectid      Region                               STP  \\\n",
       "0         1  South West                    NHS Kernow CCG   \n",
       "1         2  South West                    NHS Kernow CCG   \n",
       "2         3  South West                    NHS Kernow CCG   \n",
       "3         4  South West                    NHS Kernow CCG   \n",
       "4         5  South West  Cornwall and the Isles of Scilly   \n",
       "\n",
       "                                  Trust or Site Name  \\\n",
       "0                             Helston Medical Centre   \n",
       "1  Isles of Scilly Health Centre (deliver to main...   \n",
       "2                             Falmouth Health Centre   \n",
       "3                                   Bodriggy Surgery   \n",
       "4                                   Truro Showground   \n",
       "\n",
       "                                            Address   Postcode  longitude  \\\n",
       "0                   Trelawny Road, Helston, Cornwall  TR13 8AU  -5.269119   \n",
       "1  The Health Centre, St Mary's, via Helston Medi...  TR21 0HE  -5.269998   \n",
       "2   Falmouth Health Centre, Trescobeas Rd, Falmouth   TR11 2LH  -5.086106   \n",
       "3                             Bodriggy Health Centre  TR27 4PB  -5.412844   \n",
       "4     The Showground, Tubbin Hill, Stithians, Truro    TR3 7DP  -5.164745   \n",
       "\n",
       "    latitude                     category  \n",
       "0  50.099159  GP_led vaccination services  \n",
       "1  50.099710  GP_led vaccination services  \n",
       "2  50.155956  GP_led vaccination services  \n",
       "3  50.187164  GP_led vaccination services  \n",
       "4  50.194484          vaccination centres  "
      ]
     },
     "execution_count": 4,
     "metadata": {},
     "output_type": "execute_result"
    }
   ],
   "source": [
    "des.head()"
   ]
  },
  {
   "cell_type": "code",
   "execution_count": 5,
   "metadata": {
    "id": "IsDHAouLnwtQ"
   },
   "outputs": [
    {
     "data": {
      "text/html": [
       "<div>\n",
       "<style scoped>\n",
       "    .dataframe tbody tr th:only-of-type {\n",
       "        vertical-align: middle;\n",
       "    }\n",
       "\n",
       "    .dataframe tbody tr th {\n",
       "        vertical-align: top;\n",
       "    }\n",
       "\n",
       "    .dataframe thead th {\n",
       "        text-align: right;\n",
       "    }\n",
       "</style>\n",
       "<table border=\"1\" class=\"dataframe\">\n",
       "  <thead>\n",
       "    <tr style=\"text-align: right;\">\n",
       "      <th></th>\n",
       "      <th>object_id</th>\n",
       "      <th>Region</th>\n",
       "      <th>CCG</th>\n",
       "      <th>Site_name</th>\n",
       "      <th>Address</th>\n",
       "      <th>Postcode</th>\n",
       "      <th>longitude</th>\n",
       "      <th>latitude</th>\n",
       "      <th>certain_or</th>\n",
       "      <th>coordinate</th>\n",
       "      <th>error</th>\n",
       "      <th>STP</th>\n",
       "      <th>Trust_or_S</th>\n",
       "      <th>Field9</th>\n",
       "      <th>Field10</th>\n",
       "      <th>Field11</th>\n",
       "      <th>STP_ICS</th>\n",
       "      <th>Centre</th>\n",
       "      <th>layer</th>\n",
       "      <th>path</th>\n",
       "    </tr>\n",
       "  </thead>\n",
       "  <tbody>\n",
       "    <tr>\n",
       "      <th>0</th>\n",
       "      <td>1.0</td>\n",
       "      <td>East of England</td>\n",
       "      <td>NHS Basildon and Brentwood CCG</td>\n",
       "      <td>Brentwood Centre</td>\n",
       "      <td>Doddinghurst Road, Pilgrims Hatch, Brentwood</td>\n",
       "      <td>CM15 9NN</td>\n",
       "      <td>0.304934</td>\n",
       "      <td>51.642242</td>\n",
       "      <td>GEOMETRIC_CENTER</td>\n",
       "      <td>wgs84</td>\n",
       "      <td>NaN</td>\n",
       "      <td>NaN</td>\n",
       "      <td>NaN</td>\n",
       "      <td>NaN</td>\n",
       "      <td>NaN</td>\n",
       "      <td>NaN</td>\n",
       "      <td>NaN</td>\n",
       "      <td>NaN</td>\n",
       "      <td>GP_led_vaccination_services</td>\n",
       "      <td>D:/access/shp_vac_sites/GP_led_vaccination_ser...</td>\n",
       "    </tr>\n",
       "    <tr>\n",
       "      <th>1</th>\n",
       "      <td>2.0</td>\n",
       "      <td>East of England</td>\n",
       "      <td>NHS Basildon and Brentwood CCG</td>\n",
       "      <td>Emmanuel Church Hall</td>\n",
       "      <td>Laindon Road, Billericay</td>\n",
       "      <td>CM12 9LD</td>\n",
       "      <td>0.416827</td>\n",
       "      <td>51.617519</td>\n",
       "      <td>GEOMETRIC_CENTER</td>\n",
       "      <td>wgs84</td>\n",
       "      <td>NaN</td>\n",
       "      <td>NaN</td>\n",
       "      <td>NaN</td>\n",
       "      <td>NaN</td>\n",
       "      <td>NaN</td>\n",
       "      <td>NaN</td>\n",
       "      <td>NaN</td>\n",
       "      <td>NaN</td>\n",
       "      <td>GP_led_vaccination_services</td>\n",
       "      <td>D:/access/shp_vac_sites/GP_led_vaccination_ser...</td>\n",
       "    </tr>\n",
       "    <tr>\n",
       "      <th>2</th>\n",
       "      <td>3.0</td>\n",
       "      <td>East of England</td>\n",
       "      <td>NHS Basildon and Brentwood CCG</td>\n",
       "      <td>George Hurd Centre</td>\n",
       "      <td>Audley Way, Basildon</td>\n",
       "      <td>SS14 2FL</td>\n",
       "      <td>0.460307</td>\n",
       "      <td>51.572952</td>\n",
       "      <td>GEOMETRIC_CENTER</td>\n",
       "      <td>wgs84</td>\n",
       "      <td>NaN</td>\n",
       "      <td>NaN</td>\n",
       "      <td>NaN</td>\n",
       "      <td>NaN</td>\n",
       "      <td>NaN</td>\n",
       "      <td>NaN</td>\n",
       "      <td>NaN</td>\n",
       "      <td>NaN</td>\n",
       "      <td>GP_led_vaccination_services</td>\n",
       "      <td>D:/access/shp_vac_sites/GP_led_vaccination_ser...</td>\n",
       "    </tr>\n",
       "    <tr>\n",
       "      <th>3</th>\n",
       "      <td>4.0</td>\n",
       "      <td>East of England</td>\n",
       "      <td>NHS Basildon and Brentwood CCG</td>\n",
       "      <td>The Nevendon Centre</td>\n",
       "      <td>Nevendon Road, Wickford</td>\n",
       "      <td>SS12 0QG</td>\n",
       "      <td>0.515221</td>\n",
       "      <td>51.601814</td>\n",
       "      <td>GEOMETRIC_CENTER</td>\n",
       "      <td>wgs84</td>\n",
       "      <td>NaN</td>\n",
       "      <td>NaN</td>\n",
       "      <td>NaN</td>\n",
       "      <td>NaN</td>\n",
       "      <td>NaN</td>\n",
       "      <td>NaN</td>\n",
       "      <td>NaN</td>\n",
       "      <td>NaN</td>\n",
       "      <td>GP_led_vaccination_services</td>\n",
       "      <td>D:/access/shp_vac_sites/GP_led_vaccination_ser...</td>\n",
       "    </tr>\n",
       "    <tr>\n",
       "      <th>4</th>\n",
       "      <td>5.0</td>\n",
       "      <td>East of England</td>\n",
       "      <td>NHS Bedfordshire CCG</td>\n",
       "      <td>Guru Nanak Gurdwara</td>\n",
       "      <td>84 Ford End Road, Bedford</td>\n",
       "      <td>MK40 4JX</td>\n",
       "      <td>-0.485502</td>\n",
       "      <td>52.131068</td>\n",
       "      <td>ROOFTOP</td>\n",
       "      <td>wgs84</td>\n",
       "      <td>NaN</td>\n",
       "      <td>NaN</td>\n",
       "      <td>NaN</td>\n",
       "      <td>NaN</td>\n",
       "      <td>NaN</td>\n",
       "      <td>NaN</td>\n",
       "      <td>NaN</td>\n",
       "      <td>NaN</td>\n",
       "      <td>GP_led_vaccination_services</td>\n",
       "      <td>D:/access/shp_vac_sites/GP_led_vaccination_ser...</td>\n",
       "    </tr>\n",
       "  </tbody>\n",
       "</table>\n",
       "</div>"
      ],
      "text/plain": [
       "   object_id           Region                             CCG  \\\n",
       "0        1.0  East of England  NHS Basildon and Brentwood CCG   \n",
       "1        2.0  East of England  NHS Basildon and Brentwood CCG   \n",
       "2        3.0  East of England  NHS Basildon and Brentwood CCG   \n",
       "3        4.0  East of England  NHS Basildon and Brentwood CCG   \n",
       "4        5.0  East of England            NHS Bedfordshire CCG   \n",
       "\n",
       "              Site_name                                       Address  \\\n",
       "0      Brentwood Centre  Doddinghurst Road, Pilgrims Hatch, Brentwood   \n",
       "1  Emmanuel Church Hall                      Laindon Road, Billericay   \n",
       "2    George Hurd Centre                          Audley Way, Basildon   \n",
       "3   The Nevendon Centre                       Nevendon Road, Wickford   \n",
       "4   Guru Nanak Gurdwara                     84 Ford End Road, Bedford   \n",
       "\n",
       "   Postcode  longitude   latitude        certain_or coordinate error  STP  \\\n",
       "0  CM15 9NN   0.304934  51.642242  GEOMETRIC_CENTER      wgs84   NaN  NaN   \n",
       "1  CM12 9LD   0.416827  51.617519  GEOMETRIC_CENTER      wgs84   NaN  NaN   \n",
       "2  SS14 2FL   0.460307  51.572952  GEOMETRIC_CENTER      wgs84   NaN  NaN   \n",
       "3  SS12 0QG   0.515221  51.601814  GEOMETRIC_CENTER      wgs84   NaN  NaN   \n",
       "4  MK40 4JX  -0.485502  52.131068           ROOFTOP      wgs84   NaN  NaN   \n",
       "\n",
       "  Trust_or_S  Field9  Field10  Field11 STP_ICS Centre  \\\n",
       "0        NaN     NaN      NaN      NaN     NaN    NaN   \n",
       "1        NaN     NaN      NaN      NaN     NaN    NaN   \n",
       "2        NaN     NaN      NaN      NaN     NaN    NaN   \n",
       "3        NaN     NaN      NaN      NaN     NaN    NaN   \n",
       "4        NaN     NaN      NaN      NaN     NaN    NaN   \n",
       "\n",
       "                         layer  \\\n",
       "0  GP_led_vaccination_services   \n",
       "1  GP_led_vaccination_services   \n",
       "2  GP_led_vaccination_services   \n",
       "3  GP_led_vaccination_services   \n",
       "4  GP_led_vaccination_services   \n",
       "\n",
       "                                                path  \n",
       "0  D:/access/shp_vac_sites/GP_led_vaccination_ser...  \n",
       "1  D:/access/shp_vac_sites/GP_led_vaccination_ser...  \n",
       "2  D:/access/shp_vac_sites/GP_led_vaccination_ser...  \n",
       "3  D:/access/shp_vac_sites/GP_led_vaccination_ser...  \n",
       "4  D:/access/shp_vac_sites/GP_led_vaccination_ser...  "
      ]
     },
     "execution_count": 5,
     "metadata": {},
     "output_type": "execute_result"
    }
   ],
   "source": [
    "merg.head()"
   ]
  },
  {
   "cell_type": "markdown",
   "metadata": {
    "id": "kLWeruGjnwtQ"
   },
   "source": [
    "Merge two facility data and give every row an ID "
   ]
  },
  {
   "cell_type": "code",
   "execution_count": 6,
   "metadata": {
    "id": "ZALEYK97nwtR"
   },
   "outputs": [
    {
     "data": {
      "text/html": [
       "<div>\n",
       "<style scoped>\n",
       "    .dataframe tbody tr th:only-of-type {\n",
       "        vertical-align: middle;\n",
       "    }\n",
       "\n",
       "    .dataframe tbody tr th {\n",
       "        vertical-align: top;\n",
       "    }\n",
       "\n",
       "    .dataframe thead th {\n",
       "        text-align: right;\n",
       "    }\n",
       "</style>\n",
       "<table border=\"1\" class=\"dataframe\">\n",
       "  <thead>\n",
       "    <tr style=\"text-align: right;\">\n",
       "      <th></th>\n",
       "      <th>objectid</th>\n",
       "      <th>Region</th>\n",
       "      <th>STP</th>\n",
       "      <th>Trust or Site Name</th>\n",
       "      <th>Address</th>\n",
       "      <th>Postcode</th>\n",
       "      <th>longitude</th>\n",
       "      <th>latitude</th>\n",
       "      <th>category</th>\n",
       "      <th>object_id</th>\n",
       "      <th>...</th>\n",
       "      <th>error</th>\n",
       "      <th>Trust_or_S</th>\n",
       "      <th>Field9</th>\n",
       "      <th>Field10</th>\n",
       "      <th>Field11</th>\n",
       "      <th>STP_ICS</th>\n",
       "      <th>Centre</th>\n",
       "      <th>layer</th>\n",
       "      <th>path</th>\n",
       "      <th>new_id</th>\n",
       "    </tr>\n",
       "  </thead>\n",
       "  <tbody>\n",
       "    <tr>\n",
       "      <th>0</th>\n",
       "      <td>1.0</td>\n",
       "      <td>South West</td>\n",
       "      <td>NHS Kernow CCG</td>\n",
       "      <td>Helston Medical Centre</td>\n",
       "      <td>Trelawny Road, Helston, Cornwall</td>\n",
       "      <td>TR13 8AU</td>\n",
       "      <td>-5.269119</td>\n",
       "      <td>50.099159</td>\n",
       "      <td>GP_led vaccination services</td>\n",
       "      <td>NaN</td>\n",
       "      <td>...</td>\n",
       "      <td>NaN</td>\n",
       "      <td>NaN</td>\n",
       "      <td>NaN</td>\n",
       "      <td>NaN</td>\n",
       "      <td>NaN</td>\n",
       "      <td>NaN</td>\n",
       "      <td>NaN</td>\n",
       "      <td>NaN</td>\n",
       "      <td>NaN</td>\n",
       "      <td>0</td>\n",
       "    </tr>\n",
       "    <tr>\n",
       "      <th>1</th>\n",
       "      <td>2.0</td>\n",
       "      <td>South West</td>\n",
       "      <td>NHS Kernow CCG</td>\n",
       "      <td>Isles of Scilly Health Centre (deliver to main...</td>\n",
       "      <td>The Health Centre, St Mary's, via Helston Medi...</td>\n",
       "      <td>TR21 0HE</td>\n",
       "      <td>-5.269998</td>\n",
       "      <td>50.099710</td>\n",
       "      <td>GP_led vaccination services</td>\n",
       "      <td>NaN</td>\n",
       "      <td>...</td>\n",
       "      <td>NaN</td>\n",
       "      <td>NaN</td>\n",
       "      <td>NaN</td>\n",
       "      <td>NaN</td>\n",
       "      <td>NaN</td>\n",
       "      <td>NaN</td>\n",
       "      <td>NaN</td>\n",
       "      <td>NaN</td>\n",
       "      <td>NaN</td>\n",
       "      <td>1</td>\n",
       "    </tr>\n",
       "    <tr>\n",
       "      <th>2</th>\n",
       "      <td>3.0</td>\n",
       "      <td>South West</td>\n",
       "      <td>NHS Kernow CCG</td>\n",
       "      <td>Falmouth Health Centre</td>\n",
       "      <td>Falmouth Health Centre, Trescobeas Rd, Falmouth</td>\n",
       "      <td>TR11 2LH</td>\n",
       "      <td>-5.086106</td>\n",
       "      <td>50.155956</td>\n",
       "      <td>GP_led vaccination services</td>\n",
       "      <td>NaN</td>\n",
       "      <td>...</td>\n",
       "      <td>NaN</td>\n",
       "      <td>NaN</td>\n",
       "      <td>NaN</td>\n",
       "      <td>NaN</td>\n",
       "      <td>NaN</td>\n",
       "      <td>NaN</td>\n",
       "      <td>NaN</td>\n",
       "      <td>NaN</td>\n",
       "      <td>NaN</td>\n",
       "      <td>2</td>\n",
       "    </tr>\n",
       "    <tr>\n",
       "      <th>3</th>\n",
       "      <td>4.0</td>\n",
       "      <td>South West</td>\n",
       "      <td>NHS Kernow CCG</td>\n",
       "      <td>Bodriggy Surgery</td>\n",
       "      <td>Bodriggy Health Centre</td>\n",
       "      <td>TR27 4PB</td>\n",
       "      <td>-5.412844</td>\n",
       "      <td>50.187164</td>\n",
       "      <td>GP_led vaccination services</td>\n",
       "      <td>NaN</td>\n",
       "      <td>...</td>\n",
       "      <td>NaN</td>\n",
       "      <td>NaN</td>\n",
       "      <td>NaN</td>\n",
       "      <td>NaN</td>\n",
       "      <td>NaN</td>\n",
       "      <td>NaN</td>\n",
       "      <td>NaN</td>\n",
       "      <td>NaN</td>\n",
       "      <td>NaN</td>\n",
       "      <td>3</td>\n",
       "    </tr>\n",
       "    <tr>\n",
       "      <th>4</th>\n",
       "      <td>5.0</td>\n",
       "      <td>South West</td>\n",
       "      <td>Cornwall and the Isles of Scilly</td>\n",
       "      <td>Truro Showground</td>\n",
       "      <td>The Showground, Tubbin Hill, Stithians, Truro</td>\n",
       "      <td>TR3 7DP</td>\n",
       "      <td>-5.164745</td>\n",
       "      <td>50.194484</td>\n",
       "      <td>vaccination centres</td>\n",
       "      <td>NaN</td>\n",
       "      <td>...</td>\n",
       "      <td>NaN</td>\n",
       "      <td>NaN</td>\n",
       "      <td>NaN</td>\n",
       "      <td>NaN</td>\n",
       "      <td>NaN</td>\n",
       "      <td>NaN</td>\n",
       "      <td>NaN</td>\n",
       "      <td>NaN</td>\n",
       "      <td>NaN</td>\n",
       "      <td>4</td>\n",
       "    </tr>\n",
       "    <tr>\n",
       "      <th>...</th>\n",
       "      <td>...</td>\n",
       "      <td>...</td>\n",
       "      <td>...</td>\n",
       "      <td>...</td>\n",
       "      <td>...</td>\n",
       "      <td>...</td>\n",
       "      <td>...</td>\n",
       "      <td>...</td>\n",
       "      <td>...</td>\n",
       "      <td>...</td>\n",
       "      <td>...</td>\n",
       "      <td>...</td>\n",
       "      <td>...</td>\n",
       "      <td>...</td>\n",
       "      <td>...</td>\n",
       "      <td>...</td>\n",
       "      <td>...</td>\n",
       "      <td>...</td>\n",
       "      <td>...</td>\n",
       "      <td>...</td>\n",
       "      <td>...</td>\n",
       "    </tr>\n",
       "    <tr>\n",
       "      <th>3479</th>\n",
       "      <td>NaN</td>\n",
       "      <td>South West</td>\n",
       "      <td>NaN</td>\n",
       "      <td>NaN</td>\n",
       "      <td>NaN</td>\n",
       "      <td>PL2 3DQ</td>\n",
       "      <td>-4.151038</td>\n",
       "      <td>50.388252</td>\n",
       "      <td>NaN</td>\n",
       "      <td>NaN</td>\n",
       "      <td>...</td>\n",
       "      <td>NaN</td>\n",
       "      <td>NaN</td>\n",
       "      <td>NaN</td>\n",
       "      <td>NaN</td>\n",
       "      <td>NaN</td>\n",
       "      <td>Devon</td>\n",
       "      <td>Home Park</td>\n",
       "      <td>vaccination_center</td>\n",
       "      <td>D:/access/shp_vac_sites/vaccination_center.shp</td>\n",
       "      <td>3479</td>\n",
       "    </tr>\n",
       "    <tr>\n",
       "      <th>3480</th>\n",
       "      <td>NaN</td>\n",
       "      <td>South West</td>\n",
       "      <td>NaN</td>\n",
       "      <td>NaN</td>\n",
       "      <td>NaN</td>\n",
       "      <td>EX5 1DJ</td>\n",
       "      <td>-3.440544</td>\n",
       "      <td>50.713022</td>\n",
       "      <td>NaN</td>\n",
       "      <td>NaN</td>\n",
       "      <td>...</td>\n",
       "      <td>NaN</td>\n",
       "      <td>NaN</td>\n",
       "      <td>NaN</td>\n",
       "      <td>NaN</td>\n",
       "      <td>NaN</td>\n",
       "      <td>Devon</td>\n",
       "      <td>WestPoint Centre Ltd</td>\n",
       "      <td>vaccination_center</td>\n",
       "      <td>D:/access/shp_vac_sites/vaccination_center.shp</td>\n",
       "      <td>3480</td>\n",
       "    </tr>\n",
       "    <tr>\n",
       "      <th>3481</th>\n",
       "      <td>NaN</td>\n",
       "      <td>South West</td>\n",
       "      <td>NaN</td>\n",
       "      <td>NaN</td>\n",
       "      <td>NaN</td>\n",
       "      <td>BH2 5BH</td>\n",
       "      <td>-1.879189</td>\n",
       "      <td>50.717658</td>\n",
       "      <td>NaN</td>\n",
       "      <td>NaN</td>\n",
       "      <td>...</td>\n",
       "      <td>NaN</td>\n",
       "      <td>NaN</td>\n",
       "      <td>NaN</td>\n",
       "      <td>NaN</td>\n",
       "      <td>NaN</td>\n",
       "      <td>Dorset</td>\n",
       "      <td>Bournemouth International Centre</td>\n",
       "      <td>vaccination_center</td>\n",
       "      <td>D:/access/shp_vac_sites/vaccination_center.shp</td>\n",
       "      <td>3481</td>\n",
       "    </tr>\n",
       "    <tr>\n",
       "      <th>3482</th>\n",
       "      <td>NaN</td>\n",
       "      <td>South West</td>\n",
       "      <td>NaN</td>\n",
       "      <td>NaN</td>\n",
       "      <td>NaN</td>\n",
       "      <td>TA3 7BL</td>\n",
       "      <td>-3.079995</td>\n",
       "      <td>50.987767</td>\n",
       "      <td>NaN</td>\n",
       "      <td>NaN</td>\n",
       "      <td>...</td>\n",
       "      <td>NaN</td>\n",
       "      <td>NaN</td>\n",
       "      <td>NaN</td>\n",
       "      <td>NaN</td>\n",
       "      <td>NaN</td>\n",
       "      <td>Somerset</td>\n",
       "      <td>Taunton Racecourse</td>\n",
       "      <td>vaccination_center</td>\n",
       "      <td>D:/access/shp_vac_sites/vaccination_center.shp</td>\n",
       "      <td>3482</td>\n",
       "    </tr>\n",
       "    <tr>\n",
       "      <th>3483</th>\n",
       "      <td>NaN</td>\n",
       "      <td>South West</td>\n",
       "      <td>NaN</td>\n",
       "      <td>NaN</td>\n",
       "      <td>NaN</td>\n",
       "      <td>BA4 6QN</td>\n",
       "      <td>-2.547886</td>\n",
       "      <td>51.190900</td>\n",
       "      <td>NaN</td>\n",
       "      <td>NaN</td>\n",
       "      <td>...</td>\n",
       "      <td>NaN</td>\n",
       "      <td>NaN</td>\n",
       "      <td>NaN</td>\n",
       "      <td>NaN</td>\n",
       "      <td>NaN</td>\n",
       "      <td>Somerset</td>\n",
       "      <td>The Showground</td>\n",
       "      <td>vaccination_center</td>\n",
       "      <td>D:/access/shp_vac_sites/vaccination_center.shp</td>\n",
       "      <td>3483</td>\n",
       "    </tr>\n",
       "  </tbody>\n",
       "</table>\n",
       "<p>3484 rows × 25 columns</p>\n",
       "</div>"
      ],
      "text/plain": [
       "      objectid      Region                               STP  \\\n",
       "0          1.0  South West                    NHS Kernow CCG   \n",
       "1          2.0  South West                    NHS Kernow CCG   \n",
       "2          3.0  South West                    NHS Kernow CCG   \n",
       "3          4.0  South West                    NHS Kernow CCG   \n",
       "4          5.0  South West  Cornwall and the Isles of Scilly   \n",
       "...        ...         ...                               ...   \n",
       "3479       NaN  South West                               NaN   \n",
       "3480       NaN  South West                               NaN   \n",
       "3481       NaN  South West                               NaN   \n",
       "3482       NaN  South West                               NaN   \n",
       "3483       NaN  South West                               NaN   \n",
       "\n",
       "                                     Trust or Site Name  \\\n",
       "0                                Helston Medical Centre   \n",
       "1     Isles of Scilly Health Centre (deliver to main...   \n",
       "2                                Falmouth Health Centre   \n",
       "3                                      Bodriggy Surgery   \n",
       "4                                      Truro Showground   \n",
       "...                                                 ...   \n",
       "3479                                                NaN   \n",
       "3480                                                NaN   \n",
       "3481                                                NaN   \n",
       "3482                                                NaN   \n",
       "3483                                                NaN   \n",
       "\n",
       "                                               Address   Postcode  longitude  \\\n",
       "0                      Trelawny Road, Helston, Cornwall  TR13 8AU  -5.269119   \n",
       "1     The Health Centre, St Mary's, via Helston Medi...  TR21 0HE  -5.269998   \n",
       "2      Falmouth Health Centre, Trescobeas Rd, Falmouth   TR11 2LH  -5.086106   \n",
       "3                                Bodriggy Health Centre  TR27 4PB  -5.412844   \n",
       "4        The Showground, Tubbin Hill, Stithians, Truro    TR3 7DP  -5.164745   \n",
       "...                                                 ...       ...        ...   \n",
       "3479                                                NaN   PL2 3DQ  -4.151038   \n",
       "3480                                                NaN   EX5 1DJ  -3.440544   \n",
       "3481                                                NaN   BH2 5BH  -1.879189   \n",
       "3482                                                NaN   TA3 7BL  -3.079995   \n",
       "3483                                                NaN   BA4 6QN  -2.547886   \n",
       "\n",
       "       latitude                     category  object_id  ... error Trust_or_S  \\\n",
       "0     50.099159  GP_led vaccination services        NaN  ...   NaN        NaN   \n",
       "1     50.099710  GP_led vaccination services        NaN  ...   NaN        NaN   \n",
       "2     50.155956  GP_led vaccination services        NaN  ...   NaN        NaN   \n",
       "3     50.187164  GP_led vaccination services        NaN  ...   NaN        NaN   \n",
       "4     50.194484          vaccination centres        NaN  ...   NaN        NaN   \n",
       "...         ...                          ...        ...  ...   ...        ...   \n",
       "3479  50.388252                          NaN        NaN  ...   NaN        NaN   \n",
       "3480  50.713022                          NaN        NaN  ...   NaN        NaN   \n",
       "3481  50.717658                          NaN        NaN  ...   NaN        NaN   \n",
       "3482  50.987767                          NaN        NaN  ...   NaN        NaN   \n",
       "3483  51.190900                          NaN        NaN  ...   NaN        NaN   \n",
       "\n",
       "     Field9 Field10 Field11   STP_ICS                            Centre  \\\n",
       "0       NaN     NaN     NaN       NaN                               NaN   \n",
       "1       NaN     NaN     NaN       NaN                               NaN   \n",
       "2       NaN     NaN     NaN       NaN                               NaN   \n",
       "3       NaN     NaN     NaN       NaN                               NaN   \n",
       "4       NaN     NaN     NaN       NaN                               NaN   \n",
       "...     ...     ...     ...       ...                               ...   \n",
       "3479    NaN     NaN     NaN     Devon                         Home Park   \n",
       "3480    NaN     NaN     NaN     Devon              WestPoint Centre Ltd   \n",
       "3481    NaN     NaN     NaN    Dorset  Bournemouth International Centre   \n",
       "3482    NaN     NaN     NaN  Somerset                Taunton Racecourse   \n",
       "3483    NaN     NaN     NaN  Somerset                    The Showground   \n",
       "\n",
       "                   layer                                            path  \\\n",
       "0                    NaN                                             NaN   \n",
       "1                    NaN                                             NaN   \n",
       "2                    NaN                                             NaN   \n",
       "3                    NaN                                             NaN   \n",
       "4                    NaN                                             NaN   \n",
       "...                  ...                                             ...   \n",
       "3479  vaccination_center  D:/access/shp_vac_sites/vaccination_center.shp   \n",
       "3480  vaccination_center  D:/access/shp_vac_sites/vaccination_center.shp   \n",
       "3481  vaccination_center  D:/access/shp_vac_sites/vaccination_center.shp   \n",
       "3482  vaccination_center  D:/access/shp_vac_sites/vaccination_center.shp   \n",
       "3483  vaccination_center  D:/access/shp_vac_sites/vaccination_center.shp   \n",
       "\n",
       "      new_id  \n",
       "0          0  \n",
       "1          1  \n",
       "2          2  \n",
       "3          3  \n",
       "4          4  \n",
       "...      ...  \n",
       "3479    3479  \n",
       "3480    3480  \n",
       "3481    3481  \n",
       "3482    3482  \n",
       "3483    3483  \n",
       "\n",
       "[3484 rows x 25 columns]"
      ]
     },
     "execution_count": 6,
     "metadata": {},
     "output_type": "execute_result"
    }
   ],
   "source": [
    "des = pd.concat([des,merg], ignore_index=True, sort=False)\n",
    "des['new_id'] = des.index\n",
    "des"
   ]
  },
  {
   "cell_type": "markdown",
   "metadata": {
    "id": "7Doje3nDnwtR"
   },
   "source": [
    "## Transform the dataframe data geodataframe\n",
    "get the coordinates of the point to generate shp"
   ]
  },
  {
   "cell_type": "code",
   "execution_count": 7,
   "metadata": {
    "id": "8mQNB6ZmnwtR"
   },
   "outputs": [
    {
     "name": "stderr",
     "output_type": "stream",
     "text": [
      "/opt/conda/envs/sds2020/lib/python3.7/site-packages/pyproj/crs/crs.py:53: FutureWarning: '+init=<authority>:<code>' syntax is deprecated. '<authority>:<code>' is the preferred initialization method. When making the change, be mindful of axis order changes: https://pyproj4.github.io/pyproj/stable/gotchas.html#axis-order-changes-in-proj-6\n",
      "  return _prepare_from_string(\" \".join(pjargs))\n"
     ]
    }
   ],
   "source": [
    "geometry = [Point(xy) for xy in zip(pop.long, pop.lat)]\n",
    "crs = {'init': 'EPSG:4326'}\n",
    "geo_pop = gpd.GeoDataFrame(pop, crs=crs, geometry=geometry)\n",
    "\n",
    "# geo_pop.to_file(driver='ESRI Shapefile', filename='geo_pop.shp')"
   ]
  },
  {
   "cell_type": "code",
   "execution_count": 8,
   "metadata": {
    "id": "2Q-468g6nwtS"
   },
   "outputs": [],
   "source": [
    "geometry = [Point(xy) for xy in zip(des.longitude, des.latitude)]\n",
    "crs = {'init': 'EPSG:4326'}\n",
    "geo_des = gpd.GeoDataFrame(des, crs=crs, geometry=geometry)\n",
    "\n",
    "# geo_pop.to_file(driver='ESRI Shapefile', filename='geo_des.shp')"
   ]
  },
  {
   "cell_type": "markdown",
   "metadata": {
    "id": "g_xcEjWBnwtS"
   },
   "source": [
    "### Use Google API to calculate travel distance and time"
   ]
  },
  {
   "cell_type": "markdown",
   "metadata": {
    "id": "0wtlWitBnwtS"
   },
   "source": [
    "overview of the origin and destination data"
   ]
  },
  {
   "cell_type": "code",
   "execution_count": 9,
   "metadata": {
    "id": "ltqAm9ZZnwtS"
   },
   "outputs": [
    {
     "data": {
      "text/html": [
       "<div>\n",
       "<style scoped>\n",
       "    .dataframe tbody tr th:only-of-type {\n",
       "        vertical-align: middle;\n",
       "    }\n",
       "\n",
       "    .dataframe tbody tr th {\n",
       "        vertical-align: top;\n",
       "    }\n",
       "\n",
       "    .dataframe thead th {\n",
       "        text-align: right;\n",
       "    }\n",
       "</style>\n",
       "<table border=\"1\" class=\"dataframe\">\n",
       "  <thead>\n",
       "    <tr style=\"text-align: right;\">\n",
       "      <th></th>\n",
       "      <th>objectid</th>\n",
       "      <th>lad19cd</th>\n",
       "      <th>lad19nm</th>\n",
       "      <th>lad19nmw</th>\n",
       "      <th>bng_e</th>\n",
       "      <th>bng_n</th>\n",
       "      <th>long</th>\n",
       "      <th>lat</th>\n",
       "      <th>st_areasha</th>\n",
       "      <th>st_lengths</th>\n",
       "      <th>geometry</th>\n",
       "    </tr>\n",
       "  </thead>\n",
       "  <tbody>\n",
       "    <tr>\n",
       "      <th>0</th>\n",
       "      <td>1</td>\n",
       "      <td>E06000001</td>\n",
       "      <td>Hartlepool</td>\n",
       "      <td>NaN</td>\n",
       "      <td>447160</td>\n",
       "      <td>531474</td>\n",
       "      <td>-1.259401</td>\n",
       "      <td>54.669450</td>\n",
       "      <td>9.371262e+07</td>\n",
       "      <td>71011.933949</td>\n",
       "      <td>POINT (-1.25940 54.66945)</td>\n",
       "    </tr>\n",
       "    <tr>\n",
       "      <th>1</th>\n",
       "      <td>2</td>\n",
       "      <td>E06000002</td>\n",
       "      <td>Middlesbrough</td>\n",
       "      <td>NaN</td>\n",
       "      <td>451141</td>\n",
       "      <td>516887</td>\n",
       "      <td>-1.222262</td>\n",
       "      <td>54.542004</td>\n",
       "      <td>5.388156e+07</td>\n",
       "      <td>44481.691242</td>\n",
       "      <td>POINT (-1.22226 54.54200)</td>\n",
       "    </tr>\n",
       "    <tr>\n",
       "      <th>2</th>\n",
       "      <td>3</td>\n",
       "      <td>E06000003</td>\n",
       "      <td>Redcar and Cleveland</td>\n",
       "      <td>NaN</td>\n",
       "      <td>464361</td>\n",
       "      <td>519597</td>\n",
       "      <td>-1.020684</td>\n",
       "      <td>54.551652</td>\n",
       "      <td>2.450695e+08</td>\n",
       "      <td>96703.989701</td>\n",
       "      <td>POINT (-1.02068 54.55165)</td>\n",
       "    </tr>\n",
       "    <tr>\n",
       "      <th>3</th>\n",
       "      <td>4</td>\n",
       "      <td>E06000004</td>\n",
       "      <td>Stockton-on-Tees</td>\n",
       "      <td>NaN</td>\n",
       "      <td>444940</td>\n",
       "      <td>518183</td>\n",
       "      <td>-1.332280</td>\n",
       "      <td>54.561613</td>\n",
       "      <td>2.049330e+08</td>\n",
       "      <td>123408.985928</td>\n",
       "      <td>POINT (-1.33228 54.56161)</td>\n",
       "    </tr>\n",
       "    <tr>\n",
       "      <th>4</th>\n",
       "      <td>5</td>\n",
       "      <td>E06000005</td>\n",
       "      <td>Darlington</td>\n",
       "      <td>NaN</td>\n",
       "      <td>428029</td>\n",
       "      <td>515648</td>\n",
       "      <td>-1.552628</td>\n",
       "      <td>54.548705</td>\n",
       "      <td>1.974757e+08</td>\n",
       "      <td>107206.401677</td>\n",
       "      <td>POINT (-1.55263 54.54871)</td>\n",
       "    </tr>\n",
       "  </tbody>\n",
       "</table>\n",
       "</div>"
      ],
      "text/plain": [
       "   objectid    lad19cd               lad19nm lad19nmw   bng_e   bng_n  \\\n",
       "0         1  E06000001            Hartlepool      NaN  447160  531474   \n",
       "1         2  E06000002         Middlesbrough      NaN  451141  516887   \n",
       "2         3  E06000003  Redcar and Cleveland      NaN  464361  519597   \n",
       "3         4  E06000004      Stockton-on-Tees      NaN  444940  518183   \n",
       "4         5  E06000005            Darlington      NaN  428029  515648   \n",
       "\n",
       "       long        lat    st_areasha     st_lengths                   geometry  \n",
       "0 -1.259401  54.669450  9.371262e+07   71011.933949  POINT (-1.25940 54.66945)  \n",
       "1 -1.222262  54.542004  5.388156e+07   44481.691242  POINT (-1.22226 54.54200)  \n",
       "2 -1.020684  54.551652  2.450695e+08   96703.989701  POINT (-1.02068 54.55165)  \n",
       "3 -1.332280  54.561613  2.049330e+08  123408.985928  POINT (-1.33228 54.56161)  \n",
       "4 -1.552628  54.548705  1.974757e+08  107206.401677  POINT (-1.55263 54.54871)  "
      ]
     },
     "execution_count": 9,
     "metadata": {},
     "output_type": "execute_result"
    }
   ],
   "source": [
    "geo_pop.head()"
   ]
  },
  {
   "cell_type": "code",
   "execution_count": 10,
   "metadata": {
    "id": "fUwHFJXcnwtT"
   },
   "outputs": [
    {
     "data": {
      "text/html": [
       "<div>\n",
       "<style scoped>\n",
       "    .dataframe tbody tr th:only-of-type {\n",
       "        vertical-align: middle;\n",
       "    }\n",
       "\n",
       "    .dataframe tbody tr th {\n",
       "        vertical-align: top;\n",
       "    }\n",
       "\n",
       "    .dataframe thead th {\n",
       "        text-align: right;\n",
       "    }\n",
       "</style>\n",
       "<table border=\"1\" class=\"dataframe\">\n",
       "  <thead>\n",
       "    <tr style=\"text-align: right;\">\n",
       "      <th></th>\n",
       "      <th>objectid</th>\n",
       "      <th>Region</th>\n",
       "      <th>STP</th>\n",
       "      <th>Trust or Site Name</th>\n",
       "      <th>Address</th>\n",
       "      <th>Postcode</th>\n",
       "      <th>longitude</th>\n",
       "      <th>latitude</th>\n",
       "      <th>category</th>\n",
       "      <th>object_id</th>\n",
       "      <th>...</th>\n",
       "      <th>Trust_or_S</th>\n",
       "      <th>Field9</th>\n",
       "      <th>Field10</th>\n",
       "      <th>Field11</th>\n",
       "      <th>STP_ICS</th>\n",
       "      <th>Centre</th>\n",
       "      <th>layer</th>\n",
       "      <th>path</th>\n",
       "      <th>new_id</th>\n",
       "      <th>geometry</th>\n",
       "    </tr>\n",
       "  </thead>\n",
       "  <tbody>\n",
       "    <tr>\n",
       "      <th>0</th>\n",
       "      <td>1.0</td>\n",
       "      <td>South West</td>\n",
       "      <td>NHS Kernow CCG</td>\n",
       "      <td>Helston Medical Centre</td>\n",
       "      <td>Trelawny Road, Helston, Cornwall</td>\n",
       "      <td>TR13 8AU</td>\n",
       "      <td>-5.269119</td>\n",
       "      <td>50.099159</td>\n",
       "      <td>GP_led vaccination services</td>\n",
       "      <td>NaN</td>\n",
       "      <td>...</td>\n",
       "      <td>NaN</td>\n",
       "      <td>NaN</td>\n",
       "      <td>NaN</td>\n",
       "      <td>NaN</td>\n",
       "      <td>NaN</td>\n",
       "      <td>NaN</td>\n",
       "      <td>NaN</td>\n",
       "      <td>NaN</td>\n",
       "      <td>0</td>\n",
       "      <td>POINT (-5.26912 50.09916)</td>\n",
       "    </tr>\n",
       "    <tr>\n",
       "      <th>1</th>\n",
       "      <td>2.0</td>\n",
       "      <td>South West</td>\n",
       "      <td>NHS Kernow CCG</td>\n",
       "      <td>Isles of Scilly Health Centre (deliver to main...</td>\n",
       "      <td>The Health Centre, St Mary's, via Helston Medi...</td>\n",
       "      <td>TR21 0HE</td>\n",
       "      <td>-5.269998</td>\n",
       "      <td>50.099710</td>\n",
       "      <td>GP_led vaccination services</td>\n",
       "      <td>NaN</td>\n",
       "      <td>...</td>\n",
       "      <td>NaN</td>\n",
       "      <td>NaN</td>\n",
       "      <td>NaN</td>\n",
       "      <td>NaN</td>\n",
       "      <td>NaN</td>\n",
       "      <td>NaN</td>\n",
       "      <td>NaN</td>\n",
       "      <td>NaN</td>\n",
       "      <td>1</td>\n",
       "      <td>POINT (-5.27000 50.09971)</td>\n",
       "    </tr>\n",
       "    <tr>\n",
       "      <th>2</th>\n",
       "      <td>3.0</td>\n",
       "      <td>South West</td>\n",
       "      <td>NHS Kernow CCG</td>\n",
       "      <td>Falmouth Health Centre</td>\n",
       "      <td>Falmouth Health Centre, Trescobeas Rd, Falmouth</td>\n",
       "      <td>TR11 2LH</td>\n",
       "      <td>-5.086106</td>\n",
       "      <td>50.155956</td>\n",
       "      <td>GP_led vaccination services</td>\n",
       "      <td>NaN</td>\n",
       "      <td>...</td>\n",
       "      <td>NaN</td>\n",
       "      <td>NaN</td>\n",
       "      <td>NaN</td>\n",
       "      <td>NaN</td>\n",
       "      <td>NaN</td>\n",
       "      <td>NaN</td>\n",
       "      <td>NaN</td>\n",
       "      <td>NaN</td>\n",
       "      <td>2</td>\n",
       "      <td>POINT (-5.08611 50.15596)</td>\n",
       "    </tr>\n",
       "    <tr>\n",
       "      <th>3</th>\n",
       "      <td>4.0</td>\n",
       "      <td>South West</td>\n",
       "      <td>NHS Kernow CCG</td>\n",
       "      <td>Bodriggy Surgery</td>\n",
       "      <td>Bodriggy Health Centre</td>\n",
       "      <td>TR27 4PB</td>\n",
       "      <td>-5.412844</td>\n",
       "      <td>50.187164</td>\n",
       "      <td>GP_led vaccination services</td>\n",
       "      <td>NaN</td>\n",
       "      <td>...</td>\n",
       "      <td>NaN</td>\n",
       "      <td>NaN</td>\n",
       "      <td>NaN</td>\n",
       "      <td>NaN</td>\n",
       "      <td>NaN</td>\n",
       "      <td>NaN</td>\n",
       "      <td>NaN</td>\n",
       "      <td>NaN</td>\n",
       "      <td>3</td>\n",
       "      <td>POINT (-5.41284 50.18716)</td>\n",
       "    </tr>\n",
       "    <tr>\n",
       "      <th>4</th>\n",
       "      <td>5.0</td>\n",
       "      <td>South West</td>\n",
       "      <td>Cornwall and the Isles of Scilly</td>\n",
       "      <td>Truro Showground</td>\n",
       "      <td>The Showground, Tubbin Hill, Stithians, Truro</td>\n",
       "      <td>TR3 7DP</td>\n",
       "      <td>-5.164745</td>\n",
       "      <td>50.194484</td>\n",
       "      <td>vaccination centres</td>\n",
       "      <td>NaN</td>\n",
       "      <td>...</td>\n",
       "      <td>NaN</td>\n",
       "      <td>NaN</td>\n",
       "      <td>NaN</td>\n",
       "      <td>NaN</td>\n",
       "      <td>NaN</td>\n",
       "      <td>NaN</td>\n",
       "      <td>NaN</td>\n",
       "      <td>NaN</td>\n",
       "      <td>4</td>\n",
       "      <td>POINT (-5.16474 50.19448)</td>\n",
       "    </tr>\n",
       "  </tbody>\n",
       "</table>\n",
       "<p>5 rows × 26 columns</p>\n",
       "</div>"
      ],
      "text/plain": [
       "   objectid      Region                               STP  \\\n",
       "0       1.0  South West                    NHS Kernow CCG   \n",
       "1       2.0  South West                    NHS Kernow CCG   \n",
       "2       3.0  South West                    NHS Kernow CCG   \n",
       "3       4.0  South West                    NHS Kernow CCG   \n",
       "4       5.0  South West  Cornwall and the Isles of Scilly   \n",
       "\n",
       "                                  Trust or Site Name  \\\n",
       "0                             Helston Medical Centre   \n",
       "1  Isles of Scilly Health Centre (deliver to main...   \n",
       "2                             Falmouth Health Centre   \n",
       "3                                   Bodriggy Surgery   \n",
       "4                                   Truro Showground   \n",
       "\n",
       "                                            Address   Postcode  longitude  \\\n",
       "0                   Trelawny Road, Helston, Cornwall  TR13 8AU  -5.269119   \n",
       "1  The Health Centre, St Mary's, via Helston Medi...  TR21 0HE  -5.269998   \n",
       "2   Falmouth Health Centre, Trescobeas Rd, Falmouth   TR11 2LH  -5.086106   \n",
       "3                             Bodriggy Health Centre  TR27 4PB  -5.412844   \n",
       "4     The Showground, Tubbin Hill, Stithians, Truro    TR3 7DP  -5.164745   \n",
       "\n",
       "    latitude                     category  object_id  ... Trust_or_S Field9  \\\n",
       "0  50.099159  GP_led vaccination services        NaN  ...        NaN    NaN   \n",
       "1  50.099710  GP_led vaccination services        NaN  ...        NaN    NaN   \n",
       "2  50.155956  GP_led vaccination services        NaN  ...        NaN    NaN   \n",
       "3  50.187164  GP_led vaccination services        NaN  ...        NaN    NaN   \n",
       "4  50.194484          vaccination centres        NaN  ...        NaN    NaN   \n",
       "\n",
       "  Field10 Field11 STP_ICS Centre layer  path  new_id  \\\n",
       "0     NaN     NaN     NaN    NaN   NaN   NaN       0   \n",
       "1     NaN     NaN     NaN    NaN   NaN   NaN       1   \n",
       "2     NaN     NaN     NaN    NaN   NaN   NaN       2   \n",
       "3     NaN     NaN     NaN    NaN   NaN   NaN       3   \n",
       "4     NaN     NaN     NaN    NaN   NaN   NaN       4   \n",
       "\n",
       "                    geometry  \n",
       "0  POINT (-5.26912 50.09916)  \n",
       "1  POINT (-5.27000 50.09971)  \n",
       "2  POINT (-5.08611 50.15596)  \n",
       "3  POINT (-5.41284 50.18716)  \n",
       "4  POINT (-5.16474 50.19448)  \n",
       "\n",
       "[5 rows x 26 columns]"
      ]
     },
     "execution_count": 10,
     "metadata": {},
     "output_type": "execute_result"
    }
   ],
   "source": [
    "geo_des.head()"
   ]
  },
  {
   "cell_type": "code",
   "execution_count": 11,
   "metadata": {
    "id": "ZzmVJLcJnwtT"
   },
   "outputs": [],
   "source": [
    "# geo_pop = geo_pop[:50]\n",
    "# geo_des = geo_des[:50]"
   ]
  },
  {
   "cell_type": "markdown",
   "metadata": {
    "id": "kqkwM1ICnwtT"
   },
   "source": [
    "Create a OD list. The list shows every OD pairs"
   ]
  },
  {
   "cell_type": "code",
   "execution_count": 12,
   "metadata": {
    "id": "QkbC5SOqnwtT"
   },
   "outputs": [
    {
     "name": "stderr",
     "output_type": "stream",
     "text": [
      "100%|██████████| 382/382 [00:48<00:00,  7.92it/s]\n"
     ]
    }
   ],
   "source": [
    "from tqdm import tqdm\n",
    "list_ori = []\n",
    "list_ori_lat = []\n",
    "list_ori_lon = []\n",
    "list_des = []\n",
    "list_des_lat = []\n",
    "list_des_lon = []\n",
    "for i in tqdm(range(1,geo_pop.shape[0]+1)):\n",
    "    for j in range(geo_des.shape[0]):\n",
    "        list_ori.append(i)\n",
    "        list_ori_lat.append(geo_pop['lat'][i-1])\n",
    "        list_ori_lon.append(geo_pop['long'][i-1])\n",
    "        list_des.append(j)\n",
    "        list_des_lat.append(geo_des['latitude'][j])\n",
    "        list_des_lon.append(geo_des['longitude'][j])\n",
    "od_cost = pd.DataFrame({'ori':list_ori,\n",
    "                        'ori_lat':list_ori_lat,\n",
    "                        'ori_lon':list_ori_lon,\n",
    "                       'des':list_des,\n",
    "                       'des_lat':list_des_lat,\n",
    "                       'des_lon':list_des_lon,})"
   ]
  },
  {
   "cell_type": "markdown",
   "metadata": {
    "id": "f7SpmdgNnwtU"
   },
   "source": [
    "number of rows"
   ]
  },
  {
   "cell_type": "code",
   "execution_count": 13,
   "metadata": {
    "id": "qX5Pcft6nwtU"
   },
   "outputs": [
    {
     "data": {
      "text/plain": [
       "1330888"
      ]
     },
     "execution_count": 13,
     "metadata": {},
     "output_type": "execute_result"
    }
   ],
   "source": [
    "od_cost.shape[0]"
   ]
  },
  {
   "cell_type": "code",
   "execution_count": 14,
   "metadata": {
    "id": "tozXQoKunwtU"
   },
   "outputs": [
    {
     "data": {
      "text/html": [
       "<div>\n",
       "<style scoped>\n",
       "    .dataframe tbody tr th:only-of-type {\n",
       "        vertical-align: middle;\n",
       "    }\n",
       "\n",
       "    .dataframe tbody tr th {\n",
       "        vertical-align: top;\n",
       "    }\n",
       "\n",
       "    .dataframe thead th {\n",
       "        text-align: right;\n",
       "    }\n",
       "</style>\n",
       "<table border=\"1\" class=\"dataframe\">\n",
       "  <thead>\n",
       "    <tr style=\"text-align: right;\">\n",
       "      <th></th>\n",
       "      <th>ori</th>\n",
       "      <th>ori_lat</th>\n",
       "      <th>ori_lon</th>\n",
       "      <th>des</th>\n",
       "      <th>des_lat</th>\n",
       "      <th>des_lon</th>\n",
       "    </tr>\n",
       "  </thead>\n",
       "  <tbody>\n",
       "    <tr>\n",
       "      <th>0</th>\n",
       "      <td>1</td>\n",
       "      <td>54.66945</td>\n",
       "      <td>-1.259401</td>\n",
       "      <td>0</td>\n",
       "      <td>50.099159</td>\n",
       "      <td>-5.269119</td>\n",
       "    </tr>\n",
       "    <tr>\n",
       "      <th>1</th>\n",
       "      <td>1</td>\n",
       "      <td>54.66945</td>\n",
       "      <td>-1.259401</td>\n",
       "      <td>1</td>\n",
       "      <td>50.099710</td>\n",
       "      <td>-5.269998</td>\n",
       "    </tr>\n",
       "    <tr>\n",
       "      <th>2</th>\n",
       "      <td>1</td>\n",
       "      <td>54.66945</td>\n",
       "      <td>-1.259401</td>\n",
       "      <td>2</td>\n",
       "      <td>50.155956</td>\n",
       "      <td>-5.086106</td>\n",
       "    </tr>\n",
       "    <tr>\n",
       "      <th>3</th>\n",
       "      <td>1</td>\n",
       "      <td>54.66945</td>\n",
       "      <td>-1.259401</td>\n",
       "      <td>3</td>\n",
       "      <td>50.187164</td>\n",
       "      <td>-5.412844</td>\n",
       "    </tr>\n",
       "    <tr>\n",
       "      <th>4</th>\n",
       "      <td>1</td>\n",
       "      <td>54.66945</td>\n",
       "      <td>-1.259401</td>\n",
       "      <td>4</td>\n",
       "      <td>50.194484</td>\n",
       "      <td>-5.164745</td>\n",
       "    </tr>\n",
       "  </tbody>\n",
       "</table>\n",
       "</div>"
      ],
      "text/plain": [
       "   ori   ori_lat   ori_lon  des    des_lat   des_lon\n",
       "0    1  54.66945 -1.259401    0  50.099159 -5.269119\n",
       "1    1  54.66945 -1.259401    1  50.099710 -5.269998\n",
       "2    1  54.66945 -1.259401    2  50.155956 -5.086106\n",
       "3    1  54.66945 -1.259401    3  50.187164 -5.412844\n",
       "4    1  54.66945 -1.259401    4  50.194484 -5.164745"
      ]
     },
     "execution_count": 14,
     "metadata": {},
     "output_type": "execute_result"
    }
   ],
   "source": [
    "od_cost.head()"
   ]
  },
  {
   "cell_type": "code",
   "execution_count": 15,
   "metadata": {
    "id": "vykzVRDunwtU"
   },
   "outputs": [],
   "source": [
    "# geo_pop = geo_pop.to_crs(epsg = 27700)\n",
    "# geo_des = geo_des.to_crs(epsg = 27700)\n",
    "# distance_matrix = geo_pop.geometry.apply(lambda g: geo_des.distance(g))"
   ]
  },
  {
   "cell_type": "code",
   "execution_count": 16,
   "metadata": {
    "id": "yIbW2W7znwtV"
   },
   "outputs": [],
   "source": [
    "import requests\n",
    "import json\n",
    "from math import sin, cos, sqrt, atan2, radians"
   ]
  },
  {
   "cell_type": "markdown",
   "metadata": {
    "id": "eKYXmEq9nwtV"
   },
   "source": [
    "calculate direct distance"
   ]
  },
  {
   "cell_type": "code",
   "execution_count": 17,
   "metadata": {
    "id": "pJL7X0uVnwtW"
   },
   "outputs": [],
   "source": [
    "def co_dis(ori_lat,ori_lng,des_lat,des_lng):\n",
    "# approximate radius of earth in km\n",
    "    R = 6373.0\n",
    "\n",
    "    lat1 = radians(float(ori_lat))\n",
    "    lon1 = radians(float(ori_lng))\n",
    "    lat2 = radians(float(des_lat))\n",
    "    lon2 = radians(float(des_lng))\n",
    "\n",
    "    dlon = lon2 - lon1\n",
    "    dlat = lat2 - lat1\n",
    "\n",
    "\n",
    "    a = sin(dlat / 2)**2 + cos(lat1) * cos(lat2) * sin(dlon / 2)**2\n",
    " \n",
    "    c = 2 * atan2(sqrt(a), sqrt(1 - a))\n",
    "\n",
    "\n",
    "    return(R * c)"
   ]
  },
  {
   "cell_type": "markdown",
   "metadata": {
    "id": "eoOS1t8XnwtW"
   },
   "source": [
    "define a function to get the distance and time"
   ]
  },
  {
   "cell_type": "code",
   "execution_count": 18,
   "metadata": {
    "id": "K4m95OyWnwtW"
   },
   "outputs": [],
   "source": [
    "def get_dis(ori_lat,\n",
    "            ori_lng,\n",
    "            des_lat,\n",
    "            des_lng):\n",
    "    \n",
    "   \n",
    "    # Take source as input\n",
    "    source = str(ori_lng) + ',' + str(ori_lat)\n",
    "\n",
    "    # Take destination as input\n",
    "    dest = str(des_lng) + ',' + str(des_lat)\n",
    "\n",
    "    # url variable store url \n",
    "    url ='http://router.project-osrm.org/route/v1/driving/'\n",
    "\n",
    "    r = requests.get(url + source +\n",
    "                       ';' + dest +\n",
    "                       '?overview=false&steps=false')\n",
    "\n",
    "    # json method of response object\n",
    "    # return json format result\n",
    "    try:\n",
    "        x = r.json()\n",
    "    except ConnectionError:\n",
    "        return(np.nan,np.nan)\n",
    "    \n",
    "    # print(x)\n",
    "    if x['code'] == 'InvalidQuery':\n",
    "        return(np.nan,np.nan)\n",
    "\n",
    "\n",
    "    # by default driving mode considered\n",
    "\n",
    "    # get the travel distance in meters\n",
    "    distance = x['routes'][0]['distance']\n",
    "    # get the travel time in seconds\n",
    "    travel_time = x['routes'][0]['duration']\n",
    "    \n",
    "    return(distance,travel_time)"
   ]
  },
  {
   "cell_type": "code",
   "execution_count": 19,
   "metadata": {
    "id": "mJrqHR2RnwtW"
   },
   "outputs": [],
   "source": [
    "# def get_dis(ori_lat,\n",
    "#             ori_lng,\n",
    "#             des_lat,\n",
    "#             des_lng):\n",
    "#     # enter your api key here\n",
    "#     api_key =''\n",
    "\n",
    "# #     ori_lat = ori['origin_y']\n",
    "# #     ori_lng = ori['origin_x']\n",
    "# #     des_lat = ori['latitude']\n",
    "# #     des_lng = ori['longitude']\n",
    "#     # Take source as input\n",
    "#     source = str(ori_lat) + ',' + str(ori_lng)\n",
    "\n",
    "#     # Take destination as input\n",
    "#     dest = str(des_lat) + ',' + str(des_lng)\n",
    "\n",
    "#     # url variable store url \n",
    "#     url ='https://maps.googleapis.com/maps/api/distancematrix/json?'\n",
    "\n",
    "#     # Get method of requests module\n",
    "#     # return response object\n",
    "# #     print(url + 'origins=' + source +\n",
    "# #                        '&destinations=' + dest +\n",
    "# #                        '&key =' + api_key)\n",
    "#     r = requests.get(url + 'origins=' + source +\n",
    "#                        '&destinations=' + dest +\n",
    "#                        '&key=' + api_key)\n",
    "\n",
    "#     # json method of response object\n",
    "#     # return json format result\n",
    "#     x = r.json()\n",
    "\n",
    "#     # by default driving mode considered\n",
    "\n",
    "#     # get the travel distance in meters\n",
    "# #     print(x['rows'][0]['elements'][0])\n",
    "#     distance = x['rows'][0]['elements'][0]['distance']['value'] \n",
    "#     # get the travel time in seconds\n",
    "#     travel_time = x['rows'][0]['elements'][0]['duration']['value'] \n",
    "#     return(distance,travel_time)"
   ]
  },
  {
   "cell_type": "code",
   "execution_count": 20,
   "metadata": {},
   "outputs": [],
   "source": [
    "from tqdm import tqdm\n",
    "\n",
    "list_dis = []\n",
    "list_time = []\n",
    "list_euc = []"
   ]
  },
  {
   "cell_type": "code",
   "execution_count": 21,
   "metadata": {
    "colab": {
     "base_uri": "https://localhost:8080/"
    },
    "id": "JokaG3-HnwtX",
    "outputId": "5d331548-e536-41dc-d445-324e95016941"
   },
   "outputs": [
    {
     "name": "stderr",
     "output_type": "stream",
     "text": [
      "100%|██████████| 1330888/1330888 [35:41<00:00, 621.48it/s]    \n"
     ]
    }
   ],
   "source": [
    "for i,row in tqdm(od_cost.iterrows(), total=od_cost.shape[0]):\n",
    "    ori_id = row['ori']\n",
    "    des_id = row['des']\n",
    "\n",
    "    if i < 1095868:\n",
    "        continue\n",
    "    \n",
    "#     ori_lat = geo_pop.loc[geo_pop['OBJECTID'] == ori_id]['origin_y'].values[0]\n",
    "#     ori_lng = geo_pop.loc[geo_pop['OBJECTID'] == ori_id]['origin_x'].values[0]\n",
    "#     des_lat = geo_des.loc[geo_des['new_id'] == des_id]['latitude'].values[0]\n",
    "#     des_lng = geo_des.loc[geo_des['new_id'] == des_id]['longitude'].values[0]\n",
    "\n",
    "    ori_lat = row['ori_lat']\n",
    "    ori_lng = row['ori_lon']\n",
    "    des_lat = row['des_lat']\n",
    "    des_lng = row['des_lon'] \n",
    "    \n",
    "    euc_dis = co_dis(ori_lat,ori_lng,des_lat,des_lng)\n",
    "#     print(euc_dis)\n",
    "     \n",
    "    if euc_dis > 25:\n",
    "        list_dis.append( np.nan)\n",
    "        list_time.append(np.nan) \n",
    "        list_euc.append(euc_dis) \n",
    "        continue\n",
    "    \n",
    "    distance,travel_time = get_dis(ori_lat,\n",
    "                                    ori_lng,\n",
    "                                    des_lat,\n",
    "                                    des_lng)\n",
    "    list_dis.append(distance)\n",
    "    list_time.append(travel_time)\n",
    "    list_euc.append(euc_dis) "
   ]
  },
  {
   "cell_type": "code",
   "execution_count": 24,
   "metadata": {},
   "outputs": [
    {
     "data": {
      "text/plain": [
       "1330887"
      ]
     },
     "execution_count": 24,
     "metadata": {},
     "output_type": "execute_result"
    }
   ],
   "source": [
    "i"
   ]
  },
  {
   "cell_type": "code",
   "execution_count": 23,
   "metadata": {
    "id": "44xIpg2gnwtY"
   },
   "outputs": [
    {
     "ename": "ValueError",
     "evalue": "Length of values (235020) does not match length of index (1330888)",
     "output_type": "error",
     "traceback": [
      "\u001b[0;31m---------------------------------------------------------------------------\u001b[0m",
      "\u001b[0;31mValueError\u001b[0m                                Traceback (most recent call last)",
      "\u001b[0;32m<ipython-input-23-59198d2b7747>\u001b[0m in \u001b[0;36m<module>\u001b[0;34m\u001b[0m\n\u001b[1;32m      1\u001b[0m \u001b[0;31m# od_cost = od_cost.iloc[0:11]\u001b[0m\u001b[0;34m\u001b[0m\u001b[0;34m\u001b[0m\u001b[0;34m\u001b[0m\u001b[0m\n\u001b[0;32m----> 2\u001b[0;31m \u001b[0mod_cost\u001b[0m\u001b[0;34m[\u001b[0m\u001b[0;34m'dis'\u001b[0m\u001b[0;34m]\u001b[0m \u001b[0;34m=\u001b[0m \u001b[0mlist_dis\u001b[0m\u001b[0;34m\u001b[0m\u001b[0;34m\u001b[0m\u001b[0m\n\u001b[0m\u001b[1;32m      3\u001b[0m \u001b[0mod_cost\u001b[0m\u001b[0;34m[\u001b[0m\u001b[0;34m'time'\u001b[0m\u001b[0;34m]\u001b[0m \u001b[0;34m=\u001b[0m \u001b[0mlist_time\u001b[0m\u001b[0;34m\u001b[0m\u001b[0;34m\u001b[0m\u001b[0m\n\u001b[1;32m      4\u001b[0m \u001b[0mod_cost\u001b[0m\u001b[0;34m[\u001b[0m\u001b[0;34m'euc_dis'\u001b[0m\u001b[0;34m]\u001b[0m \u001b[0;34m=\u001b[0m \u001b[0mlist_euc\u001b[0m\u001b[0;34m\u001b[0m\u001b[0;34m\u001b[0m\u001b[0m\n\u001b[1;32m      5\u001b[0m \u001b[0mod_cost\u001b[0m\u001b[0;34m.\u001b[0m\u001b[0mhead\u001b[0m\u001b[0;34m(\u001b[0m\u001b[0;34m)\u001b[0m\u001b[0;34m\u001b[0m\u001b[0;34m\u001b[0m\u001b[0m\n",
      "\u001b[0;32m/opt/conda/envs/sds2020/lib/python3.7/site-packages/pandas/core/frame.py\u001b[0m in \u001b[0;36m__setitem__\u001b[0;34m(self, key, value)\u001b[0m\n\u001b[1;32m   3038\u001b[0m         \u001b[0;32melse\u001b[0m\u001b[0;34m:\u001b[0m\u001b[0;34m\u001b[0m\u001b[0;34m\u001b[0m\u001b[0m\n\u001b[1;32m   3039\u001b[0m             \u001b[0;31m# set column\u001b[0m\u001b[0;34m\u001b[0m\u001b[0;34m\u001b[0m\u001b[0;34m\u001b[0m\u001b[0m\n\u001b[0;32m-> 3040\u001b[0;31m             \u001b[0mself\u001b[0m\u001b[0;34m.\u001b[0m\u001b[0m_set_item\u001b[0m\u001b[0;34m(\u001b[0m\u001b[0mkey\u001b[0m\u001b[0;34m,\u001b[0m \u001b[0mvalue\u001b[0m\u001b[0;34m)\u001b[0m\u001b[0;34m\u001b[0m\u001b[0;34m\u001b[0m\u001b[0m\n\u001b[0m\u001b[1;32m   3041\u001b[0m \u001b[0;34m\u001b[0m\u001b[0m\n\u001b[1;32m   3042\u001b[0m     \u001b[0;32mdef\u001b[0m \u001b[0m_setitem_slice\u001b[0m\u001b[0;34m(\u001b[0m\u001b[0mself\u001b[0m\u001b[0;34m,\u001b[0m \u001b[0mkey\u001b[0m\u001b[0;34m:\u001b[0m \u001b[0mslice\u001b[0m\u001b[0;34m,\u001b[0m \u001b[0mvalue\u001b[0m\u001b[0;34m)\u001b[0m\u001b[0;34m:\u001b[0m\u001b[0;34m\u001b[0m\u001b[0;34m\u001b[0m\u001b[0m\n",
      "\u001b[0;32m/opt/conda/envs/sds2020/lib/python3.7/site-packages/pandas/core/frame.py\u001b[0m in \u001b[0;36m_set_item\u001b[0;34m(self, key, value)\u001b[0m\n\u001b[1;32m   3114\u001b[0m         \"\"\"\n\u001b[1;32m   3115\u001b[0m         \u001b[0mself\u001b[0m\u001b[0;34m.\u001b[0m\u001b[0m_ensure_valid_index\u001b[0m\u001b[0;34m(\u001b[0m\u001b[0mvalue\u001b[0m\u001b[0;34m)\u001b[0m\u001b[0;34m\u001b[0m\u001b[0;34m\u001b[0m\u001b[0m\n\u001b[0;32m-> 3116\u001b[0;31m         \u001b[0mvalue\u001b[0m \u001b[0;34m=\u001b[0m \u001b[0mself\u001b[0m\u001b[0;34m.\u001b[0m\u001b[0m_sanitize_column\u001b[0m\u001b[0;34m(\u001b[0m\u001b[0mkey\u001b[0m\u001b[0;34m,\u001b[0m \u001b[0mvalue\u001b[0m\u001b[0;34m)\u001b[0m\u001b[0;34m\u001b[0m\u001b[0;34m\u001b[0m\u001b[0m\n\u001b[0m\u001b[1;32m   3117\u001b[0m         \u001b[0mNDFrame\u001b[0m\u001b[0;34m.\u001b[0m\u001b[0m_set_item\u001b[0m\u001b[0;34m(\u001b[0m\u001b[0mself\u001b[0m\u001b[0;34m,\u001b[0m \u001b[0mkey\u001b[0m\u001b[0;34m,\u001b[0m \u001b[0mvalue\u001b[0m\u001b[0;34m)\u001b[0m\u001b[0;34m\u001b[0m\u001b[0;34m\u001b[0m\u001b[0m\n\u001b[1;32m   3118\u001b[0m \u001b[0;34m\u001b[0m\u001b[0m\n",
      "\u001b[0;32m/opt/conda/envs/sds2020/lib/python3.7/site-packages/pandas/core/frame.py\u001b[0m in \u001b[0;36m_sanitize_column\u001b[0;34m(self, key, value, broadcast)\u001b[0m\n\u001b[1;32m   3761\u001b[0m \u001b[0;34m\u001b[0m\u001b[0m\n\u001b[1;32m   3762\u001b[0m             \u001b[0;31m# turn me into an ndarray\u001b[0m\u001b[0;34m\u001b[0m\u001b[0;34m\u001b[0m\u001b[0;34m\u001b[0m\u001b[0m\n\u001b[0;32m-> 3763\u001b[0;31m             \u001b[0mvalue\u001b[0m \u001b[0;34m=\u001b[0m \u001b[0msanitize_index\u001b[0m\u001b[0;34m(\u001b[0m\u001b[0mvalue\u001b[0m\u001b[0;34m,\u001b[0m \u001b[0mself\u001b[0m\u001b[0;34m.\u001b[0m\u001b[0mindex\u001b[0m\u001b[0;34m)\u001b[0m\u001b[0;34m\u001b[0m\u001b[0;34m\u001b[0m\u001b[0m\n\u001b[0m\u001b[1;32m   3764\u001b[0m             \u001b[0;32mif\u001b[0m \u001b[0;32mnot\u001b[0m \u001b[0misinstance\u001b[0m\u001b[0;34m(\u001b[0m\u001b[0mvalue\u001b[0m\u001b[0;34m,\u001b[0m \u001b[0;34m(\u001b[0m\u001b[0mnp\u001b[0m\u001b[0;34m.\u001b[0m\u001b[0mndarray\u001b[0m\u001b[0;34m,\u001b[0m \u001b[0mIndex\u001b[0m\u001b[0;34m)\u001b[0m\u001b[0;34m)\u001b[0m\u001b[0;34m:\u001b[0m\u001b[0;34m\u001b[0m\u001b[0;34m\u001b[0m\u001b[0m\n\u001b[1;32m   3765\u001b[0m                 \u001b[0;32mif\u001b[0m \u001b[0misinstance\u001b[0m\u001b[0;34m(\u001b[0m\u001b[0mvalue\u001b[0m\u001b[0;34m,\u001b[0m \u001b[0mlist\u001b[0m\u001b[0;34m)\u001b[0m \u001b[0;32mand\u001b[0m \u001b[0mlen\u001b[0m\u001b[0;34m(\u001b[0m\u001b[0mvalue\u001b[0m\u001b[0;34m)\u001b[0m \u001b[0;34m>\u001b[0m \u001b[0;36m0\u001b[0m\u001b[0;34m:\u001b[0m\u001b[0;34m\u001b[0m\u001b[0;34m\u001b[0m\u001b[0m\n",
      "\u001b[0;32m/opt/conda/envs/sds2020/lib/python3.7/site-packages/pandas/core/internals/construction.py\u001b[0m in \u001b[0;36msanitize_index\u001b[0;34m(data, index)\u001b[0m\n\u001b[1;32m    746\u001b[0m     \u001b[0;32mif\u001b[0m \u001b[0mlen\u001b[0m\u001b[0;34m(\u001b[0m\u001b[0mdata\u001b[0m\u001b[0;34m)\u001b[0m \u001b[0;34m!=\u001b[0m \u001b[0mlen\u001b[0m\u001b[0;34m(\u001b[0m\u001b[0mindex\u001b[0m\u001b[0;34m)\u001b[0m\u001b[0;34m:\u001b[0m\u001b[0;34m\u001b[0m\u001b[0;34m\u001b[0m\u001b[0m\n\u001b[1;32m    747\u001b[0m         raise ValueError(\n\u001b[0;32m--> 748\u001b[0;31m             \u001b[0;34m\"Length of values \"\u001b[0m\u001b[0;34m\u001b[0m\u001b[0;34m\u001b[0m\u001b[0m\n\u001b[0m\u001b[1;32m    749\u001b[0m             \u001b[0;34mf\"({len(data)}) \"\u001b[0m\u001b[0;34m\u001b[0m\u001b[0;34m\u001b[0m\u001b[0m\n\u001b[1;32m    750\u001b[0m             \u001b[0;34m\"does not match length of index \"\u001b[0m\u001b[0;34m\u001b[0m\u001b[0;34m\u001b[0m\u001b[0m\n",
      "\u001b[0;31mValueError\u001b[0m: Length of values (235020) does not match length of index (1330888)"
     ]
    }
   ],
   "source": [
    "# od_cost = od_cost.iloc[0:11]\n",
    "od_cost['dis'] = list_dis\n",
    "od_cost['time'] = list_time\n",
    "od_cost['euc_dis'] = list_euc\n",
    "od_cost.head()"
   ]
  },
  {
   "cell_type": "code",
   "execution_count": null,
   "metadata": {},
   "outputs": [],
   "source": [
    "od_cost.shape[0]"
   ]
  },
  {
   "cell_type": "markdown",
   "metadata": {
    "id": "1sHkCQYYnwtY"
   },
   "source": [
    "## Create the `access` Object\n",
    "\n",
    "Since we have geometries here, it could be as simple as this:"
   ]
  },
  {
   "cell_type": "code",
   "execution_count": null,
   "metadata": {
    "id": "Mj53o1ConwtY"
   },
   "outputs": [],
   "source": [
    "geo_des['sup'] = 10\n",
    "geo_pop['All_Ages'] = 10"
   ]
  },
  {
   "cell_type": "code",
   "execution_count": null,
   "metadata": {
    "id": "elih2g5cnwtY"
   },
   "outputs": [],
   "source": [
    "A = Access(demand_df            = geo_pop,\n",
    "           demand_index         = 'objectid',\n",
    "           demand_value         = 'All_Ages',\n",
    "           supply_df            = geo_des,\n",
    "           supply_index         = 'new_id',\n",
    "           supply_value         = ['sup'],\n",
    "           cost_df              = od_cost,\n",
    "           cost_origin          = 'ori',\n",
    "           cost_dest            = 'des',\n",
    "           cost_name            = 'time',\n",
    "           neighbor_cost_df     = od_cost,\n",
    "           neighbor_cost_origin = 'ori',\n",
    "           neighbor_cost_dest   = 'des',\n",
    "           neighbor_cost_name   = 'time')"
   ]
  },
  {
   "cell_type": "markdown",
   "metadata": {
    "id": "DtzQhfSbnwtZ"
   },
   "source": [
    "### Add an Additional Distance Measure - Euclidean Distance\n",
    "\n",
    "Though we've already loaded a network distance matrix, we can still add a Euclidean distance matrix. This requires geopandas to be installed, and you should already have projected the data. In case you have not, below we show how to see your current projection, and how to change it to the correct one (if you don't know what projection to use, you can reference the [spatial reference](https://spatialreference.org/) website)."
   ]
  },
  {
   "cell_type": "code",
   "execution_count": null,
   "metadata": {
    "id": "bu4ROkminwtZ"
   },
   "outputs": [],
   "source": [
    "print(A.demand_df.crs)\n",
    "print(A.supply_df.crs)"
   ]
  },
  {
   "cell_type": "code",
   "execution_count": null,
   "metadata": {
    "id": "boLoWwolnwtZ"
   },
   "outputs": [],
   "source": [
    "A.demand_df = A.demand_df.to_crs(epsg = 27700)\n",
    "A.supply_df = A.supply_df.to_crs(epsg = 27700)"
   ]
  },
  {
   "cell_type": "markdown",
   "metadata": {
    "id": "dJk2u7lXnwtZ"
   },
   "source": [
    "Now we'll calculate the Euclidean distance matrix. Note that this is a very costly operation, but you only have to do it once.  `threshold` is the maximum distance (km) that we will consider. Calculating distances between centroids takes a while but is still faster than computing distances to polygons (crazy expensive, though we've been moderately careful to make it faster)."
   ]
  },
  {
   "cell_type": "code",
   "execution_count": null,
   "metadata": {
    "id": "KdqulKsHnwtZ"
   },
   "outputs": [],
   "source": [
    "A.create_euclidean_distance(threshold = 2500000, centroid_o = True, centroid_d = True)"
   ]
  },
  {
   "cell_type": "markdown",
   "metadata": {
    "id": "YxhEug2RnwtZ"
   },
   "source": [
    "Calling `A.cost_df` will now show the 'eulidean' column in the cost dataframe."
   ]
  },
  {
   "cell_type": "code",
   "execution_count": null,
   "metadata": {
    "id": "ZSa6-7kYnwta"
   },
   "outputs": [],
   "source": [
    "A.cost_df"
   ]
  },
  {
   "cell_type": "markdown",
   "metadata": {
    "id": "xK8cr5BXnwta"
   },
   "source": [
    "### Create Some Weight Functions\n",
    "\n",
    "Of course, you don't _have_ to do this, but it's fun to play with different versions of spatial access, esp. E2SFCA. You can create the weighting functionsfrom stepwise weight dictionaries."
   ]
  },
  {
   "cell_type": "code",
   "execution_count": null,
   "metadata": {
    "id": "CoiAx7R1nwta"
   },
   "outputs": [],
   "source": [
    "fn30 = weights.step_fn({10 : 1, 20 : 0.68, 30 : 0.22})\n",
    "fn60 = weights.step_fn({20 : 1, 40 : 0.68, 60 : 0.22})"
   ]
  },
  {
   "cell_type": "markdown",
   "metadata": {
    "id": "oDc1nNAfnwta"
   },
   "source": [
    "Or, you can use gaussian weights.  Here, we're using a value of 20 (minutes), such that we'll be at the 3σ level at 60 minutes.\n",
    "\n",
    "This could also be done through scipy.stats.norm().pdf, but that turns out to be unacceptably slow."
   ]
  },
  {
   "cell_type": "code",
   "execution_count": null,
   "metadata": {
    "id": "N7HHtGNNnwta"
   },
   "outputs": [],
   "source": [
    "gaussian = weights.gaussian(20)"
   ]
  },
  {
   "cell_type": "markdown",
   "metadata": {
    "id": "k9iBXMFDnwta"
   },
   "source": [
    "Lastly, you could use a conventional gravity model, which is just weighted catchment with gravity weighting."
   ]
  },
  {
   "cell_type": "code",
   "execution_count": null,
   "metadata": {
    "id": "aC8dIdBynwtb"
   },
   "outputs": [],
   "source": [
    "gravity = weights.gravity(scale = 60, alpha = -1)"
   ]
  },
  {
   "cell_type": "markdown",
   "metadata": {
    "id": "vBiK_qSznwtb"
   },
   "source": [
    "## Ready to roll...\n",
    "\n",
    "Now just call the access functions. Each of these will return the corresponding series, but they are also stored in `A.access_df`.  Check out the documentation for the possible arguments. Note that if you call the same function repeatedly, with different arguments, you may want to change the name, to avoid overwriting. By default, `access` will calculate access metrics for each of the supply columns unless you specify a particular subset."
   ]
  },
  {
   "cell_type": "code",
   "execution_count": null,
   "metadata": {
    "id": "B6ybfyNOnwtb"
   },
   "outputs": [],
   "source": [
    "A.weighted_catchment    (name = \"gravity\",  weight_fn = gravity)\n",
    "A.fca_ratio             (name = \"fca\",      max_cost = 15)\n",
    "A.fca_ratio             (name = \"fca\",      max_cost = 30) # Note - the warning -- good!\n",
    "A.fca_ratio             (name = \"fca60\",    max_cost = 60)\n",
    "A.fca_ratio             (name = \"fca90\",    max_cost = 90)\n",
    "A.two_stage_fca         (name = \"2sfca\",    max_cost = 60)\n",
    "A.enhanced_two_stage_fca(name = \"2sfca30\",  weight_fn = fn30)\n",
    "A.enhanced_two_stage_fca(name = \"2sfca60\",  weight_fn = fn60)\n",
    "A.enhanced_two_stage_fca(name = \"g2sfca\",   weight_fn = gaussian)\n",
    "A.three_stage_fca       (name = \"3sfca\")\n",
    "\n",
    "A.raam(name = \"raam\", tau = 60);\n",
    "A.raam(name = \"raam30\", tau = 30);"
   ]
  },
  {
   "cell_type": "code",
   "execution_count": null,
   "metadata": {
    "id": "UKWqO9Xxnwtb"
   },
   "outputs": [],
   "source": [
    "A.access_df.sort_values(by='raam_sup').dropna().head()"
   ]
  },
  {
   "cell_type": "markdown",
   "metadata": {
    "id": "bLAEqtfanwtc"
   },
   "source": [
    "These were all with network travel time, in minutes.  We could also run the calculation with Euclidean distance.  Note that the parameters for the access fucntion will be dramatically different in meters instead of minutes!  Here, RAAM's tau parameter shifts from 60 minutes to 100 km (1e5 meters)."
   ]
  },
  {
   "cell_type": "code",
   "execution_count": null,
   "metadata": {
    "id": "3KMLZSMOnwtc"
   },
   "outputs": [],
   "source": [
    "raam = A.raam(name = \"raam_euclidean\", tau = 1e5, cost = \"euclidean\")\n",
    "\n",
    "raam.head()"
   ]
  },
  {
   "cell_type": "markdown",
   "metadata": {
    "id": "lzW5Yexcnwtc"
   },
   "source": [
    "Gosh -- that's lots of access measures!  Let's simplify our life, with just one:"
   ]
  },
  {
   "cell_type": "code",
   "execution_count": null,
   "metadata": {
    "id": "cMSH7UQunwtc"
   },
   "outputs": [],
   "source": [
    "A.score(name = \"raam_combo\", col_dict = {\"raam_sup\" : 1})"
   ]
  },
  {
   "cell_type": "markdown",
   "metadata": {
    "id": "ampgZQJPnwtc"
   },
   "source": [
    "If there were only one cost function available, these logs wouldn't print.\n",
    "\n",
    "If you found all the logs annoying instead of useful, then turn them off:"
   ]
  },
  {
   "cell_type": "code",
   "execution_count": null,
   "metadata": {
    "id": "UNoDDxAnnwtc"
   },
   "outputs": [],
   "source": [
    "A.log.setLevel(logging.WARNING)"
   ]
  },
  {
   "cell_type": "markdown",
   "metadata": {
    "id": "kE_G6r1wnwtc"
   },
   "source": [
    "## Results time!\n",
    "\n",
    "Let's get the correlations among measures, and plot a few of them..."
   ]
  },
  {
   "cell_type": "code",
   "execution_count": null,
   "metadata": {
    "id": "zNQ-zT0xnwtd"
   },
   "outputs": [],
   "source": [
    "A.norm_access_df.columns"
   ]
  },
  {
   "cell_type": "code",
   "execution_count": null,
   "metadata": {
    "id": "OKDqs93Mnwtd"
   },
   "outputs": [],
   "source": [
    "A.norm_access_df.corr().raam_sup.abs().sort_values(ascending = False)"
   ]
  },
  {
   "cell_type": "code",
   "execution_count": null,
   "metadata": {
    "id": "bAgZDVWLnwtd"
   },
   "outputs": [],
   "source": [
    "geo = gpd.read_file(Local_Authority_Districts_(December_2019)_Boundaries_UK_BFC.shp')\n",
    "geo.head()"
   ]
  },
  {
   "cell_type": "code",
   "execution_count": null,
   "metadata": {
    "id": "jTc9PrMrnwtd"
   },
   "outputs": [],
   "source": [
    "A.norm_access_df"
   ]
  },
  {
   "cell_type": "code",
   "execution_count": null,
   "metadata": {},
   "outputs": [],
   "source": [
    "A.norm_access_df.to_csv('figures/traveltime/metrics.csv')"
   ]
  },
  {
   "cell_type": "code",
   "execution_count": null,
   "metadata": {},
   "outputs": [],
   "source": [
    "avg_traveltime = od_cost.groupby(['ori', 'ori_lat','ori_lon'], as_index=False).mean()\n",
    "avg_traveltime = avg_traveltime[['ori', 'ori_lat','ori_lon','time']]\n",
    "avg_traveltime.to_csv('figures/traveltime/avg_traveltime.csv')\n",
    "# avg_traveltime"
   ]
  },
  {
   "cell_type": "code",
   "execution_count": null,
   "metadata": {},
   "outputs": [],
   "source": [
    "il_map = geo.set_index('objectid').join(A.norm_access_df, how = \"inner\")"
   ]
  },
  {
   "cell_type": "code",
   "execution_count": null,
   "metadata": {},
   "outputs": [],
   "source": [
    "il_map = il_map.join(avg_traveltime, how = \"inner\")"
   ]
  },
  {
   "cell_type": "code",
   "execution_count": null,
   "metadata": {
    "id": "P4iQQHE1nwte"
   },
   "outputs": [],
   "source": [
    "def plot(v, ax = None, leg = True):\n",
    "    \n",
    "    swap_colors = \"raam\" in v\n",
    "    \n",
    "    il_map.plot(v, legend = leg, figsize = (5, 5), \n",
    "                cmap = \"viridis_r\" if swap_colors else \"viridis\", \n",
    "                markersize = 5, alpha = 0.8, ax = ax,\n",
    "                vmin = il_map[v].quantile(0.05), vmax = il_map[v].quantile(0.95)).set_axis_off()"
   ]
  },
  {
   "cell_type": "code",
   "execution_count": null,
   "metadata": {
    "id": "3Xz-MA-0nwte"
   },
   "outputs": [],
   "source": [
    "plot(\"raam_sup\")"
   ]
  },
  {
   "cell_type": "code",
   "execution_count": null,
   "metadata": {
    "id": "9RFkP9BAnwte"
   },
   "outputs": [],
   "source": [
    "for name in A.norm_access_df.columns:\n",
    "    plt.figure(figsize=(800, 600), dpi=1000)\n",
    "    plot(name)\n",
    "    plt.savefig('figures/traveltime/'+ name +'.png', dpi=1000)"
   ]
  },
  {
   "cell_type": "code",
   "execution_count": null,
   "metadata": {
    "id": "vfVEQDlOnwtf"
   },
   "outputs": [],
   "source": [
    "plt.figure(figsize=(800, 600), dpi=1000)\n",
    "plot(\"time\")\n",
    "plt.savefig('figures/traveltime/平均时间.png', dpi=1000)"
   ]
  },
  {
   "cell_type": "code",
   "execution_count": null,
   "metadata": {},
   "outputs": [],
   "source": []
  }
 ],
 "metadata": {
  "colab": {
   "collapsed_sections": [
    "DtzQhfSbnwtZ",
    "xK8cr5BXnwta"
   ],
   "name": "yet-Copy1.ipynb",
   "provenance": []
  },
  "kernelspec": {
   "display_name": "Python 3",
   "language": "python",
   "name": "python3"
  },
  "language_info": {
   "codemirror_mode": {
    "name": "ipython",
    "version": 3
   },
   "file_extension": ".py",
   "mimetype": "text/x-python",
   "name": "python",
   "nbconvert_exporter": "python",
   "pygments_lexer": "ipython3",
   "version": "3.7.8"
  }
 },
 "nbformat": 4,
 "nbformat_minor": 4
}
